temp to upload ipynb notebook
